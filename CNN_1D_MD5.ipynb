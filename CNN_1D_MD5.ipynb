{
 "cells": [
  {
   "cell_type": "code",
   "execution_count": null,
   "metadata": {},
   "outputs": [],
   "source": [
    "import numpy as np\n",
    "from keras.models import Sequential\n",
    "from keras.layers import Dense, Dropout, Flatten\n",
    "import pandas\n",
    "\n",
    "seed = 7\n",
    "np.random.seed(seed)\n",
    "def string2bits(s=''):\n",
    "    return [bin(ord(x))[2:].zfill(8) for x in s]\n",
    "def bits2string(b=None):\n",
    "    return ''.join([chr(int(x, 2)) for x in b])\n",
    "dataframe = pandas.read_csv(\"hash_md5_dataset_sample.csv\", header=None)\n",
    "dataset = dataframe.values\n",
    "x = dataset[:, 0:2]\n",
    "X = []\n",
    "Y= []\n",
    "x_test=[]\n",
    "y_test=[]\n",
    "\n",
    "for i in range(400000):\n",
    "    X.append(((''.join(string2bits(x[i][0])))))\n",
    "\n",
    "for i in range(400000):\n",
    "    Y.append(((''.join(string2bits(x[i][1])))))\n",
    "\n",
    "for i in range(400000,500000):\n",
    "    x_test.append(((''.join(string2bits(x[i][0])))))\n",
    "\n",
    "for i in range(400000,500000):\n",
    "    y_test.append(((''.join(string2bits(x[i][1])))))\n",
    "\n",
    "\n",
    "x_train = np.array([[int(x) for x in y] for y in X])\n",
    "y_train = np.array([[int(x) for x in y] for y in Y])\n",
    "\n",
    "x_test = np.array([[int(x) for x in y] for y in x_test])\n",
    "y_test = np.array([[int(x) for x in y] for y in y_test])\n",
    "\n",
    "model = Sequential()\n",
    "model.add(Dense(256, input_dim=256, activation='relu'))\n",
    "model.add(Dense(512, activation='relu'))\n",
    "model.add(Dropout(0.25))\n",
    "model.add(Dense(160,activation='sigmoid'))\n",
    "model.compile(loss='binary_crossentropy',\n",
    "              optimizer='rmsprop',\n",
    "              metrics=['accuracy'])\n",
    "model.summary()\n",
    "model.fit(x_train, y_train,\n",
    "          epochs=200,\n",
    "          batch_size=128)\n",
    "score = model.evaluate(x_test, y_test, batch_size=1024, verbose=1)\n",
    "classes = model.predict(x_test, batch_size=128)\n",
    "print(score)"
   ]
  },
  {
   "cell_type": "code",
   "execution_count": 44,
   "metadata": {},
   "outputs": [
    {
     "name": "stdout",
     "output_type": "stream",
     "text": [
      "\r",
      "  32/1000 [..............................] - ETA: 0s"
     ]
    },
    {
     "data": {
      "text/plain": [
       "array([[0, 1, 1, ..., 0, 1, 1],\n",
       "       [0, 1, 1, ..., 1, 1, 1],\n",
       "       [0, 1, 0, ..., 1, 0, 1],\n",
       "       ..., \n",
       "       [0, 1, 1, ..., 0, 1, 0],\n",
       "       [0, 1, 1, ..., 0, 0, 1],\n",
       "       [0, 1, 0, ..., 1, 0, 1]])"
      ]
     },
     "execution_count": 44,
     "metadata": {},
     "output_type": "execute_result"
    }
   ],
   "source": [
    "from sklearn.metrics import matthews_corrcoef\n",
    "from sklearn.metrics import hamming_loss\n",
    "out = model.predict_proba(x_test)\n",
    "out = np.array(out)\n",
    "\n",
    "threshold = np.arange(0.1,0.9,0.1)\n",
    "acc = []\n",
    "accuracies = []\n",
    "best_threshold = np.zeros(out.shape[1])\n",
    "for i in range(out.shape[1]):\n",
    "    y_prob = np.array(out[:,i])\n",
    "    for j in threshold:\n",
    "        y_pred = [1 if prob>=j else 0 for prob in y_prob]\n",
    "        acc.append( matthews_corrcoef(y_test[:,i],y_pred))\n",
    "    acc   = np.array(acc)\n",
    "    index = np.where(acc==acc.max()) \n",
    "    accuracies.append(acc.max()) \n",
    "    best_threshold[i] = threshold[index[0][0]]\n",
    "    acc = []\n",
    "\n",
    "y_pred = np.array([[1 if out[i,j]>=best_threshold[j] else 0 for j in range(y_test.shape[1])] for i in range(len(y_test))])\n",
    "y_pred\n",
    "y_test"
   ]
  },
  {
   "cell_type": "code",
   "execution_count": 45,
   "metadata": {},
   "outputs": [
    {
     "name": "stdout",
     "output_type": "stream",
     "text": [
      "0.3877375\n",
      "0.0\n",
      "0\n"
     ]
    }
   ],
   "source": [
    "print hamming_loss(y_test,y_pred)\n",
    "total_correctly_predicted = len([i for i in range(len(y_test)) if (y_test[i]==y_pred[i]).sum() == 160])\n",
    "print total_correctly_predicted/400. #exact accuracy for eg y_pred = [0,0,1,1,1] and y_test=[0,0,1,1,1]\n",
    "print total_correctly_predicted"
   ]
  },
  {
   "cell_type": "code",
   "execution_count": null,
   "metadata": {
    "collapsed": true
   },
   "outputs": [],
   "source": []
  },
  {
   "cell_type": "code",
   "execution_count": null,
   "metadata": {
    "collapsed": true
   },
   "outputs": [],
   "source": []
  },
  {
   "cell_type": "code",
   "execution_count": null,
   "metadata": {
    "collapsed": true
   },
   "outputs": [],
   "source": []
  },
  {
   "cell_type": "code",
   "execution_count": null,
   "metadata": {
    "collapsed": true
   },
   "outputs": [],
   "source": []
  }
 ],
 "metadata": {
  "kernelspec": {
   "display_name": "Python 2",
   "language": "python",
   "name": "python2"
  },
  "language_info": {
   "codemirror_mode": {
    "name": "ipython",
    "version": 2
   },
   "file_extension": ".py",
   "mimetype": "text/x-python",
   "name": "python",
   "nbconvert_exporter": "python",
   "pygments_lexer": "ipython2",
   "version": "2.7.10"
  }
 },
 "nbformat": 4,
 "nbformat_minor": 2
}
