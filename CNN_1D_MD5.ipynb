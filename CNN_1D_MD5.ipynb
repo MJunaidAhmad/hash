{
 "cells": [
  {
   "cell_type": "code",
   "execution_count": null,
   "metadata": {},
   "outputs": [
    {
     "name": "stdout",
     "output_type": "stream",
     "text": [
      "_________________________________________________________________\n",
      "Layer (type)                 Output Shape              Param #   \n",
      "=================================================================\n",
      "dense_16 (Dense)             (None, 256)               65792     \n",
      "_________________________________________________________________\n",
      "dense_17 (Dense)             (None, 512)               131584    \n",
      "_________________________________________________________________\n",
      "dropout_6 (Dropout)          (None, 512)               0         \n",
      "_________________________________________________________________\n",
      "dense_18 (Dense)             (None, 40)                20520     \n",
      "=================================================================\n",
      "Total params: 217,896\n",
      "Trainable params: 217,896\n",
      "Non-trainable params: 0\n",
      "_________________________________________________________________\n",
      "Epoch 1/200\n",
      "45000/45000 [==============================] - 0s - loss: 0.5743 - acc: 0.6340     \n",
      "Epoch 2/200\n",
      "45000/45000 [==============================] - 0s - loss: 0.5704 - acc: 0.6380     \n",
      "Epoch 3/200\n",
      "45000/45000 [==============================] - 0s - loss: 0.5698 - acc: 0.6399     \n",
      "Epoch 4/200\n",
      "45000/45000 [==============================] - 0s - loss: 0.5692 - acc: 0.6415     \n",
      "Epoch 5/200\n",
      "45000/45000 [==============================] - 0s - loss: 0.5684 - acc: 0.6439     \n",
      "Epoch 6/200\n",
      "45000/45000 [==============================] - 0s - loss: 0.5674 - acc: 0.6465     \n",
      "Epoch 7/200\n",
      "45000/45000 [==============================] - 0s - loss: 0.5664 - acc: 0.6490     \n",
      "Epoch 8/200\n",
      "45000/45000 [==============================] - 0s - loss: 0.5651 - acc: 0.6514     \n",
      "Epoch 9/200\n",
      "45000/45000 [==============================] - 0s - loss: 0.5636 - acc: 0.6541     \n",
      "Epoch 10/200\n",
      "45000/45000 [==============================] - 0s - loss: 0.5621 - acc: 0.6566     \n",
      "Epoch 11/200\n",
      "45000/45000 [==============================] - 0s - loss: 0.5605 - acc: 0.6596     \n",
      "Epoch 12/200\n",
      "45000/45000 [==============================] - 0s - loss: 0.5589 - acc: 0.6623     \n",
      "Epoch 13/200\n",
      "45000/45000 [==============================] - 0s - loss: 0.5573 - acc: 0.6647     \n",
      "Epoch 14/200\n",
      "45000/45000 [==============================] - 0s - loss: 0.5556 - acc: 0.6673     \n",
      "Epoch 15/200\n",
      "45000/45000 [==============================] - 0s - loss: 0.5541 - acc: 0.6697     \n",
      "Epoch 16/200\n",
      "45000/45000 [==============================] - 0s - loss: 0.5525 - acc: 0.6722     \n",
      "Epoch 17/200\n",
      "41728/45000 [==========================>...] - ETA: 0s - loss: 0.5509 - acc: 0.6740"
     ]
    }
   ],
   "source": [
    "import numpy as np\n",
    "from keras.models import Sequential\n",
    "from keras.layers import Dense, Dropout, Flatten\n",
    "import pandas\n",
    "\n",
    "seed = 7\n",
    "np.random.seed(seed)\n",
    "def string2bits(s=''):\n",
    "    return [bin(ord(x))[2:].zfill(8) for x in s]\n",
    "def bits2string(b=None):\n",
    "    return ''.join([chr(int(x, 2)) for x in b])\n",
    "dataframe = pandas.read_csv(\"hash_md5_dataset_sample.csv\", header=None)\n",
    "dataset = dataframe.values\n",
    "x = dataset[:, 0:2]\n",
    "X = []\n",
    "Y= []\n",
    "x_test=[]\n",
    "y_test=[]\n",
    "\n",
    "for i in range(45000):\n",
    "    X.append(((''.join(string2bits(x[i][0])))))\n",
    "\n",
    "for i in range(45000):\n",
    "    Y.append(((''.join(string2bits(x[i][1])))))\n",
    "\n",
    "for i in range(45000,50000):\n",
    "    x_test.append(((''.join(string2bits(x[i][0])))))\n",
    "\n",
    "for i in range(45000,50000):\n",
    "    y_test.append(((''.join(string2bits(x[i][1])))))\n",
    "\n",
    "\n",
    "x_train = np.array([[int(x) for x in y] for y in X])\n",
    "y_train = np.array([[int(x) for x in y] for y in Y])\n",
    "\n",
    "x_test = np.array([[int(x) for x in y] for y in x_test])\n",
    "y_test = np.array([[int(x) for x in y] for y in y_test])\n",
    "\n",
    "model = Sequential()\n",
    "model.add(Dense(256, input_dim=256, activation='relu'))\n",
    "model.add(Dense(512, activation='relu'))\n",
    "model.add(Dropout(0.25))\n",
    "model.add(Dense(40,activation='sigmoid'))\n",
    "model.compile(loss='binary_crossentropy',\n",
    "              optimizer='rmsprop',\n",
    "              metrics=['accuracy'])\n",
    "model.summary()\n",
    "model.fit(x_train, y_train,\n",
    "          epochs=200,\n",
    "          batch_size=128)\n",
    "score = model.evaluate(x_test, y_test, batch_size=1024, verbose=1)\n",
    "classes = model.predict(x_test, batch_size=128)\n",
    "print(score)"
   ]
  },
  {
   "cell_type": "code",
   "execution_count": 49,
   "metadata": {},
   "outputs": [
    {
     "data": {
      "text/plain": [
       "(1000, 40)"
      ]
     },
     "execution_count": 49,
     "metadata": {},
     "output_type": "execute_result"
    }
   ],
   "source": [
    "classes[classes > 0.5] = 1\n",
    "classes[classes <= 0.5]=0\n",
    "classes.shape\n"
   ]
  },
  {
   "cell_type": "code",
   "execution_count": 58,
   "metadata": {},
   "outputs": [
    {
     "name": "stdout",
     "output_type": "stream",
     "text": [
      "JiQ1baSQrQNpHrkmrJ|HDpgpTK0lzIJJZUYgqP0TKfr~4VxA3SgixUfXqPEYRUvtZeTSfKCsCpmu1Q:n[@5RGptxs4MqBvD}SOOxjqKhwc\u0018wwkt3R0mfR2p@ElX3u^i\\xyJ`nyvSkhxTJQsxqAIywx^<5FqFuy|VvrPRpCsUptzUldIFpA0vujj4zbJCrcq01wMccC3NFfGtJiaI2pwv0fyBhXw0pgP:vH4QRxGJTrRm1ts1mPTuyegbq{EqXfHIlNMZExgBvqHJhFFVNxRV7PgYVsmrvgqR1UEWqRTu[ueqinJxXeaDsHvqdwTkfReHqEy1vDGyPbSKVrxoATTvew`qHDjROSC^qSNjSlmH2N2DWBS1InPr8X5sJ}XhxG\\u8KfjNsGBBegvKjXH7Iq9IH6~[ByF2kvpBsCChmusUjSrtgPJl2TjMtqcSGPqFt|FtBmvyww`vnFi3WuiDdrQpBRCupYqjw9AWXpqJeJ|iGthrUJr[vRXhF~sJ0KtvDUu2mecS9r4pOwsaERt4GuusygAHJ4Wpdpru2ns2t0v0NuqP1sO@ZLxRqd2LJvuVPTwRzqUqMrzmoYzq[wGqVZPRa5tgRxWSDCWIT0[pTSAQftc2GxFIqE{9cxVFpC`Rs1}FXy^tEOiXCcs6Lnqf>hEerguXrZ{qExqtYsxS5GcelbrPsvYxer7p9rgLxptExp2Y}r^qCVvu{qoaaHX}KpHTFKsFafmYZs4LRNGwAgrBEg@uQbJcfqYuQnXKcvjUaKRTtCDZLw0rRgFdrDHakpMrDxY3AdulKSCTb:)TzRwviJW{rtRIjYIxxj4bpj2tB:v;wbrSsALearJ1r7sIgJt71QRAAiS6v9vG4YhjQGj0BvpJpL`G3PSWylgr7xh6@FpjseGzrtiEFqz8riC26eRIoreQUVAtWpWUGhSie{mI:VCtXcdrIT8mRqly0E7RmIusD4Ort7vxMn1y\u0017gfI:DfGpqUd\u0014Uaifk21ZppU6ZcTOyYx2PTkYQF8ZRXtb\u0017BqS6eqxHvIQ6ezYMr5RTKrgrveZq]wzdmmFPvWvRMrknnGIL7tPcqS0C`c0HRsm\u0018twyZ%jfqG0hulrqqGRKv\u0011cuHe`Ewp6hpip1FqqGvSUMEuZOfVu5MXg`YUcsrYufRX4Q3Fm1cfSLyDQF0qYLXmKFba{Pgewx6lIFLrDFyuQcUEfhge@502vG<JSra{uAlP2LU:jq6vzF1PRptDXGwh`0H`d1PIMf7OSsxrPRVJkQG0uvrd;SwtQgL~jeqpqSG~Oje5GJSqWaK0viKybBKIhTlizQERRj3WtdZBxj`U75r{2BvuySHxJWRX3rOGQblob}bx]1CtLNLBxrGuYBuGJrXO7EUrDqc48rDE@:LgqBbriCZ4zlx|oUQcJPhgerFWAne2XdZgmse4RfDEXvsxCg2v]g3vz5MbStuRgS7YeAPwjzPK|hVQRsIbPT0CMrRrpurXJ3TtBu}WQSrKDcKoQebJlrUgKZREtrM0UAFrvnNykKQQ3rzU{zwKJwfljtNrSSjhwQHZ\\krApWd`[EpSuqWl\u0017qmWrZ|tC5yPEwCPtZC1Drzz9a43gdCeAuwkgSDEYuvCJRdKU5Z0fGpKwpsyBqvW6Hxt7yzrxq[HtFLuJ~{`gB1KEVz04Tw|8Tit8SJFEztRP2Q{3GCCtjvuwkXJRPdrv\\rnrEQpQpOGZTqgrfmqTZUSuzsTptAvq2qy5w@0kidnrNsF;WSiIZl@|ErqCtLUCPrgMQQrltPeXsuY2HKIDlpQ{bxwRUpnJ~GSAnfJqcrrGEiS2kdsdrpe49ppFjfbaOMojp`5vZvoDlpjCXFuKmoZyPsBHqHc{fJFEPR3Ugqqu;vsvyvWxJv0XiSpKFAN3qUiqV\\gUibcnK58GJDRkuEGJvWOrJ{zUlq7BCt`xyqA\u00128mjfosDcsO2|rxfqNDxIjeN89i`q!PrmRbFK[DsJ2f`4FpoQPtsmExppsL7wyqwRFrpEC@1lBvS07v:~RImvGqrOFPt2eFpz9WrEYeKqCreLcRu`mIX`YPWsoBLiNhHLiOqQmyrqsdVSu0NIqzK`SiyjbGM2nfR|y2erW6cQBu{tGiDqnQqRCuHLXPRi7X1RDVP{i[myoUIqGrz8qUGJ`bnqRkCB6rPrS0tF`xZ|efQqZBuuyzu_fl[csR{uVUPV5spOzzp9r2tGtCrlSTJFlU{L0sErxHTV=irPLmK4xPrO2vSuq28WWNvVdxBz]Iug1Psmtvre1XQ0MpkvDl6ExsIrG4LCpokmRZJOIJwFJPIXGapdaFruIJceZg7fhct4PgJBAqxcq2azCkiSwxHiVyFoNLvWtEprqMCJv\\KWG4umkqUjGtek0RNZSSicSuiOt12ssrxrnNhhnPAxxvQm`Hr@ecFs[@KOhINWgx9w2HyHGAepaEUEgAWrBzXgGMfUCTQb5AYtzOiqjxzUEYrpumftVMaOF[PyvfycprvWiyBvtVnSuDkqQ|QTdYjTFuZZSIHKfg]cDlrMRJ4sIWJ2zLvXr2BRCZ9DdVxZlkvvHGoL{zDtYrUg3SReMlUXKuAO2fdjPilJvSzSOzruJ1zyWvJhM9ESpinv@0shXErPY3PxYziEqP.XBvKfsuzc0qtpVxvEirgTQwh1jlDmF2G1Rf\u0011rxKkIAQf%zfICF9wCDpFEPqtqIWB2rMruuIbIP~Lw8jp1E'zt2AIX<pEs@RzVnwnteQFsygiNEGy`OdtLZCZhBqv7FmPxRPExSwQAGzsqmsAuXgsBROouRTuueresfR{lHtzberDnJ|XuQqtQVCirKpgWfQEikvXGqljcUer0zpWZJREFzcXWrv5qsgCpx\\mfjxC5drIs`p1Wxt{v:9hFrTZux6sbGXM4fKsnUkrM0yQwPRCNY3tPiSN16]grwiyhKr2gRhTqmQhu^|MT2yU4pr6EPIdiFngRAMqcPr8qN0vIqBpxc[Q2pEhR{{DFfRDV`R7RGhR8RipopiFe3lgDFPsqqhnXXfPV1DGrdZ}uqR2dIdv2dRCvrQDuVfQIuIpofVJ_Y`HXG]Lhffzm`0X3\\tGxRGGMrlGCY`[dxswpIDH2QVQPj:j{fbsGKBsUsrPx6Kx;~Rm20rwL6vqjjIXwnbrr1NhhMtWEECwvJM6loE3rqkeak6mzzx2KoOKSWiGjVrGmR2IgdUfPJxRPe\\{hGQPzmt9@hijIgxs\\zueV[uQ<2pwbBgvprKrMWf@jdsHR3HtdRkrThPvh2VfhFIVXQSDyBsVvYCsTJkrzdeKYg1GaSnSJXtjHYwtsHhun%Ju{dpxAxJpXT~`rPw1KoTgPQaIWQ2trA^CVDNa28VWSZnTGSHnrKVv0HLo[zRqCoc8ErTwgwxVTytof6WHyeovGLvuQBzVpUennMZmMRplwpywvKBg{8KrPr|WGRXUAHDFjBmHxjdFP07LIQvd|psw2V4F:xFQFhk}gAr_izypQOsszhOFqjFgQy|5MqY:RxWF7LZm0j}w@ISFw<ex6Ian2TEbCrQcQIRwNyn{EBbHRdQC{wWKZo4HqEJ{\"FdRZF|HeZYsKBIYiRJv3EiRaHQAbiRm0CtcU}VqrGfqTeNKZNKkrRuvkRz1rSRJqWAZi6pHa`zvfBi8jcCK8JWkRvAoC2fvIGKRB{iXiWzvjsYqtIr0uwavXWPqvqO4JqrGsymKfvfq9Js}nRUUDuj{rr8OTSrQ|AcsPdvdu{zFGKTsjaPMjP2N30GGQwTYAQ\\DQqJsfmwTUuTzvx|qKpvYfyXzlSum0DIuPssHUzfXuS{e2mr3vBNupRFiRIVrhxe@PiYxs3Eb3FUGPCpkQD\u00158ac[cvKAwQq8LfAhpE`ZVoEH|aFpuZvr2XBEeiiv7{W~wuQAHQDHTi6yjI5ecJu6cqxvWfs6`BCpvYQG^mceZGVKsj4iq^nfgkBwsrGcCkIGyBw|TNspZiS|j>50mV:gkjvs01sE5Q`rrIexsf{BaQJBMRAtr`AxqRG4cne@vQvwdqy22erX6RyXQRRL\u0016FesGSBq1SQRxXxnJdbOERzr|SvyZsqVrQMjpeIiSkfRlq@5OoPJyPepZKRkyVtGFtGrpFrt~UQRRjha1RwMGvyG{gUcyTnrAgEkVx{NfHV4I5qqTUEnfR8aVcrFIK|qpkVztwBhr1dHLZ|IOiW}hmkgJpWuVjyuLErRK0S7HtCqiZCgxHjaimpHcUsVuCYVQmQ{YsUcMzyWezEyBCwQxSFxU;9gUtdgnRJQP@PDWSqdARrepbqKLp|y0m`YhppiP0kEqjvI1IGBJj\u0017SzXvHrnKSU3CYahE70G8Dx8UtgtLdSIfeQFmxfiGFWWBTRiiAN13URT\u00101kU}DzzAwygYzGUsKWuQFGis[VYOa2erqf`wuJ7Isy@QL`cESC{ZCfFp7esP7tGigpRGaPzgqIFv\u0012tkgqY}OXxdGwRjSChR8bIjgxPqQ{rlGTYG2eHV2qbD2vcUsL_SBFHzCGBX[vewyfyvwU3ehIZ7xEe~vedHRvqvpeEXcOM6hqqQpJe0IRueoqdsE1y6GhwhTRp|2u[wxF{jNSiJ|Db06\u0018IqSJhgjshuhHrhVIwX4dpXH^HTsQ7xq[qraMxyKh`UsXxGbdRfuLkVudGxqtyrfy6m|Fnhdevn~FZC7Hk\u0012yrv|qHnXGgKrDluUSYlSGqkRGr?qW7qxnNYAh8Grhab8vQpmRtKkJeH[4pF2Gw0@sWrVCnRwuiWTsuDam3vKrMpRvrfHli7j1zuQYrqtnM|GapMI0EEpw0D9fzRc1WrvvQXrvoqEiXwLzVGKwRVy0KVJJTvuQap57EexJgrEaSfu| WGIuKR{HqcSr9ipb(rY\u0013hUurtFqAgrRNDsqLrrQzGXoEQ82IkdTyFCp6V{IaP4XQ9Lt9dcAg8RutrVGg1tLajF\\ZRPmSxm4tqvFBZ0p4yptOICTregJEycTpBjfTxpsrUvKHRcna|LuBt0sY3es3g{rnIKixugKWU65msU5EdzAQdKda90Fw[@FV4FXTEeR2r\n"
     ]
    }
   ],
   "source": [
    "values=[]\n",
    "temp=''\n",
    "z=0\n",
    "for i in range(1000):\n",
    "    for k in range(5):\n",
    "        for j in range(8):\n",
    "            temp=temp+str(int(classes[i][z]))\n",
    "            z=z+1\n",
    "        values.append(temp)\n",
    "        temp=''\n",
    "    z=0\n",
    "#print values\n",
    "print bits2string(values)"
   ]
  },
  {
   "cell_type": "code",
   "execution_count": 20,
   "metadata": {},
   "outputs": [
    {
     "data": {
      "text/plain": [
       "array([ 0.,  1.,  1.,  0.,  0.,  1.,  0.,  1.], dtype=float32)"
      ]
     },
     "execution_count": 20,
     "metadata": {},
     "output_type": "execute_result"
    }
   ],
   "source": []
  },
  {
   "cell_type": "code",
   "execution_count": 41,
   "metadata": {},
   "outputs": [
    {
     "name": "stdout",
     "output_type": "stream",
     "text": [
      "emXrMDcjMjgxT0aoBZ4dkfBHhh9iKKghXJzj7yL89tpEKa1uCo1NevGpD61b5GX6Yu6XGejnjXXNWEIieSPOquyuDXPxpy53LJAmTYwEJaR9sx4b7wtu8f12RPudJhLzLQa3TdY6hxOk1ZpW46xP4yXuAcyJZTshJknHNJI8zpiZgAUAoaa7LNfGuVtaA6W4JmE3Bj0YmAUw7aEMTImKq9xVOP0R8CQI4TJDXTCklwPi8tVgzM6sNrCA4cDRFSThiUrbv9VKC4rQPVdCeCDfOTEmqXCRfdn8WyoH2TsfgLNyABsytKV02Cbb4HB7YmSeL8CcSdxoep84knNY6oEP0QjQfj9hzD7kd8I6jqrZKoHh0I7kq5KU0UfYHzTDS30nzg36clFsiyxvkRcUAbDnTzLqeObiTSfkjaxNMl28Dg5QdJvQtEdtLBYTyPhwtwprlgEOLBM5W0AwxSQEGPav2z8uMrzCnMgTQcGU2EcWPUDOe5eAAKs100rJLSfiF8IhkNwLLUrRGezvVV7XXMNtZwF02W53x0SFNUxQRI3giQFZoQNiSonBqHSNnXYfgl8zUqghIK5OhzpCzO5bl9olUCkbwXq0gPI2fU57RhficgowRkdoShNK0EFVzNwBhBXZ1oSJ8HJtcPUgSzThrDfbbzEK2ja5wMimv3xKkoSuy8JhxfanrYjGs4dCIy980sXenvx3sAoChDTWbyj0WdVXrCzFoBBuDQaPXd34b2TLK2ykpBscDFBz2BDRZkiDoNXQHPwXUQ4qyrMdBjq2yYnB9KfrVLL8eBk3vXgsGO1KjyZwIMDejMYqI8JJWRG9XKMkgW6rDmwKGi8GDwgq6rWlFpipaBPzJqt5KTluNOguQO1mbf7EKd8n3kYr8Y82EFYltFSfzLqPnPcJFDvUs8iKEUesk2M4tnrtdNJqBt0cgTKZvrbqNim68KGKJGRFJnfiajiej2yLSSMLPXoEHGrosknH4JeZkfXgsIOyfHyb\n"
     ]
    }
   ],
   "source": []
  },
  {
   "cell_type": "code",
   "execution_count": null,
   "metadata": {
    "collapsed": true
   },
   "outputs": [],
   "source": []
  },
  {
   "cell_type": "code",
   "execution_count": null,
   "metadata": {
    "collapsed": true
   },
   "outputs": [],
   "source": []
  }
 ],
 "metadata": {
  "kernelspec": {
   "display_name": "Python 2",
   "language": "python",
   "name": "python2"
  },
  "language_info": {
   "codemirror_mode": {
    "name": "ipython",
    "version": 2
   },
   "file_extension": ".py",
   "mimetype": "text/x-python",
   "name": "python",
   "nbconvert_exporter": "python",
   "pygments_lexer": "ipython2",
   "version": "2.7.10"
  }
 },
 "nbformat": 4,
 "nbformat_minor": 2
}
