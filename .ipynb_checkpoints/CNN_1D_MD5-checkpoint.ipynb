{
 "cells": [
  {
   "cell_type": "code",
   "execution_count": 23,
   "metadata": {},
   "outputs": [
    {
     "name": "stdout",
     "output_type": "stream",
     "text": [
      "Epoch 1/20\n",
      "400/400 [==============================] - 0s - loss: 0.7104 - acc: 0.5817     \n",
      "Epoch 2/20\n",
      "400/400 [==============================] - 0s - loss: 0.6134 - acc: 0.6213     \n",
      "Epoch 3/20\n",
      "400/400 [==============================] - 0s - loss: 0.6039 - acc: 0.6223     \n",
      "Epoch 4/20\n",
      "400/400 [==============================] - 0s - loss: 0.5983 - acc: 0.6217     \n",
      "Epoch 5/20\n",
      "400/400 [==============================] - 0s - loss: 0.5942 - acc: 0.6217     \n",
      "Epoch 6/20\n",
      "400/400 [==============================] - 0s - loss: 0.5924 - acc: 0.6246     \n",
      "Epoch 7/20\n",
      "400/400 [==============================] - 0s - loss: 0.5889 - acc: 0.6281     \n",
      "Epoch 8/20\n",
      "400/400 [==============================] - 0s - loss: 0.5883 - acc: 0.6259     \n",
      "Epoch 9/20\n",
      "400/400 [==============================] - 0s - loss: 0.5855 - acc: 0.6308     \n",
      "Epoch 10/20\n",
      "400/400 [==============================] - 0s - loss: 0.5831 - acc: 0.6316     \n",
      "Epoch 11/20\n",
      "400/400 [==============================] - 0s - loss: 0.5830 - acc: 0.6290     \n",
      "Epoch 12/20\n",
      "400/400 [==============================] - 0s - loss: 0.5829 - acc: 0.6292     \n",
      "Epoch 13/20\n",
      "400/400 [==============================] - 0s - loss: 0.5820 - acc: 0.6306     \n",
      "Epoch 14/20\n",
      "400/400 [==============================] - 0s - loss: 0.5798 - acc: 0.6318     \n",
      "Epoch 15/20\n",
      "400/400 [==============================] - 0s - loss: 0.5796 - acc: 0.6314     \n",
      "Epoch 16/20\n",
      "400/400 [==============================] - 0s - loss: 0.5780 - acc: 0.6324     \n",
      "Epoch 17/20\n",
      "400/400 [==============================] - 0s - loss: 0.5793 - acc: 0.6302     \n",
      "Epoch 18/20\n",
      "400/400 [==============================] - 0s - loss: 0.5774 - acc: 0.6343     \n",
      "Epoch 19/20\n",
      "400/400 [==============================] - 0s - loss: 0.5774 - acc: 0.6324     \n",
      "Epoch 20/20\n",
      "400/400 [==============================] - 0s - loss: 0.5770 - acc: 0.6331     \n",
      "100/100 [==============================] - 0s\n"
     ]
    }
   ],
   "source": [
    "import numpy as np\n",
    "from keras.models import Sequential\n",
    "from keras.layers import Dense, Dropout\n",
    "import pandas\n",
    "\n",
    "seed = 7\n",
    "np.random.seed(seed)\n",
    "def string2bits(s=''):\n",
    "    return [bin(ord(x))[2:].zfill(8) for x in s]\n",
    "def bits2string(b=None):\n",
    "    return ''.join([chr(int(x, 2)) for x in b])\n",
    "dataframe = pandas.read_csv(\"hash_md5_dataset_sample.csv\", header=None)\n",
    "dataset = dataframe.values\n",
    "x = dataset[:, 0:2]\n",
    "X = []\n",
    "Y= []\n",
    "x_test=[]\n",
    "y_test=[]\n",
    "\n",
    "for i in range(400):\n",
    "    X.append(((''.join(string2bits(x[i][0])))))\n",
    "\n",
    "for i in range(400):\n",
    "    Y.append(((''.join(string2bits(x[i][1])))))\n",
    "\n",
    "for i in range(400,500):\n",
    "    x_test.append(((''.join(string2bits(x[i][0])))))\n",
    "\n",
    "for i in range(400,500):\n",
    "    y_test.append(((''.join(string2bits(x[i][1])))))\n",
    "\n",
    "\n",
    "x_train = np.array([[int(x) for x in y] for y in X])\n",
    "y_train = np.array([[int(x) for x in y] for y in Y])\n",
    "\n",
    "x_test = np.array([[int(x) for x in y] for y in x_test])\n",
    "y_test = np.array([[int(x) for x in y] for y in y_test])\n",
    "\n",
    "model = Sequential()\n",
    "model.add(Dense(512, input_dim=256, activation='relu'))\n",
    "model.add(Dropout(0.5))\n",
    "model.add(Dense(1024, activation='relu'))\n",
    "model.add(Dropout(0.5))\n",
    "model.add(Dense(160, activation='sigmoid'))\n",
    "\n",
    "model.compile(loss='binary_crossentropy',\n",
    "              optimizer='rmsprop',\n",
    "              metrics=['accuracy'])\n",
    "\n",
    "model.fit(x_train, y_train,\n",
    "          epochs=20,\n",
    "          batch_size=128)\n",
    "score = model.evaluate(x_test, y_test, batch_size=128)\n",
    "classes = model.predict(x_test, batch_size=32)\n"
   ]
  },
  {
   "cell_type": "code",
   "execution_count": 24,
   "metadata": {},
   "outputs": [
    {
     "name": "stdout",
     "output_type": "stream",
     "text": [
      "[ 0.0134342   0.85705245  0.65193236  0.51027805  0.39177012  0.44579944\n",
      "  0.54095292  0.40233055  0.01282621  0.79567355  0.53808177  0.55069482\n",
      "  0.42567328  0.45313767  0.44310075  0.52255183  0.01363071  0.84590089\n",
      "  0.59911609  0.47925892  0.46605751  0.44608876  0.52822399  0.44016916\n",
      "  0.01169913  0.80061913  0.53019631  0.53767264  0.39442819  0.48468107\n",
      "  0.41822293  0.54635465  0.01135188  0.81725508  0.58533442  0.49838239\n",
      "  0.32380727  0.44414991  0.56465578  0.52953458  0.00953153  0.84082621\n",
      "  0.53673494  0.42053685  0.39524555  0.41118273  0.48303601  0.50793386\n",
      "  0.0178054   0.79316902  0.54920584  0.50815231  0.47384158  0.41140035\n",
      "  0.52759844  0.48660353  0.0140955   0.79981315  0.5742662   0.51625818\n",
      "  0.40406343  0.47841167  0.55417198  0.47771105  0.01162815  0.79566187\n",
      "  0.55544639  0.55995256  0.37969384  0.42671585  0.50631493  0.46801323\n",
      "  0.00975764  0.81504738  0.49148524  0.46482158  0.37562898  0.5686453\n",
      "  0.49455079  0.56542504  0.01157376  0.79094028  0.65587139  0.55813909\n",
      "  0.43253991  0.46216035  0.53073019  0.469852    0.0093169   0.76202428\n",
      "  0.60973835  0.52585566  0.3992655   0.43465102  0.4990232   0.50913608\n",
      "  0.00785516  0.83239448  0.49108374  0.50522864  0.36586946  0.43916416\n",
      "  0.50579268  0.49773052  0.01197579  0.80470896  0.59939283  0.5219202\n",
      "  0.37540889  0.48770943  0.51417357  0.50955319  0.0123411   0.82366049\n",
      "  0.5720101   0.51217544  0.47100753  0.45280445  0.44471112  0.5361588\n",
      "  0.01089797  0.78937709  0.63072449  0.5656209   0.39042267  0.39422378\n",
      "  0.46254587  0.49252129  0.01526475  0.80953741  0.59258169  0.49724874\n",
      "  0.43144843  0.46158588  0.48112717  0.48212296  0.01219254  0.80856639\n",
      "  0.51341796  0.49894425  0.45529518  0.50448483  0.51010871  0.51337385\n",
      "  0.00874136  0.79158735  0.58305424  0.58425868  0.41855314  0.43821394\n",
      "  0.53109562  0.4718051   0.01277927  0.77639621  0.6054486   0.55848336\n",
      "  0.37658519  0.35493693  0.5486955   0.46765915]\n"
     ]
    }
   ],
   "source": [
    "print(classes[0])"
   ]
  },
  {
   "cell_type": "code",
   "execution_count": 25,
   "metadata": {},
   "outputs": [
    {
     "data": {
      "text/plain": [
       "array([[0, 0, 1, ..., 0, 0, 1],\n",
       "       [0, 0, 1, ..., 0, 0, 1],\n",
       "       [0, 0, 1, ..., 0, 0, 1],\n",
       "       ..., \n",
       "       [0, 0, 1, ..., 0, 0, 1],\n",
       "       [0, 1, 1, ..., 0, 0, 1],\n",
       "       [0, 1, 1, ..., 0, 0, 1]])"
      ]
     },
     "execution_count": 25,
     "metadata": {},
     "output_type": "execute_result"
    }
   ],
   "source": [
    "x_train"
   ]
  },
  {
   "cell_type": "code",
   "execution_count": null,
   "metadata": {
    "collapsed": true
   },
   "outputs": [],
   "source": []
  }
 ],
 "metadata": {
  "kernelspec": {
   "display_name": "Python 2",
   "language": "python",
   "name": "python2"
  },
  "language_info": {
   "codemirror_mode": {
    "name": "ipython",
    "version": 2
   },
   "file_extension": ".py",
   "mimetype": "text/x-python",
   "name": "python",
   "nbconvert_exporter": "python",
   "pygments_lexer": "ipython2",
   "version": "2.7.10"
  }
 },
 "nbformat": 4,
 "nbformat_minor": 2
}
