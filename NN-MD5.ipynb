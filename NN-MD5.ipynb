{
 "cells": [
  {
   "cell_type": "code",
   "execution_count": null,
   "metadata": {},
   "outputs": [],
   "source": [
    "#import useful libraries\n",
    "import hashlib #for md5\n",
    "import binascii # for conversions (binary etc.)\n",
    "import string \n",
    "import random # for random number generation\n",
    "import csv # to play around with csv files\n",
    "\n",
    "#create or open a csv file\n",
    "with open('hash_md5_dataset.csv', 'wb') as csvfile:\n",
    "    datawriter = csv.writer(csvfile, delimiter=',')  \n",
    "    for i in range(500000000):\n",
    "        # first generate a combination of upercase, lowercase letters and digits. \n",
    "        s=''.join(random.SystemRandom().choice(string.ascii_uppercase + string.digits+string.ascii_lowercase ) for _ in range(20))\n",
    "        #now generate the hash value using md5\n",
    "        hashcode=hashlib.md5(s).hexdigest()\n",
    "        datawriter.writerow([hashcode,s])"
   ]
  },
  {
   "cell_type": "code",
   "execution_count": 13,
   "metadata": {
    "collapsed": true
   },
   "outputs": [],
   "source": []
  },
  {
   "cell_type": "code",
   "execution_count": 101,
   "metadata": {},
   "outputs": [
    {
     "data": {
      "text/plain": [
       "'cb8d9d469b15997e426df34e81187146'"
      ]
     },
     "execution_count": 101,
     "metadata": {},
     "output_type": "execute_result"
    }
   ],
   "source": [
    "\n",
    "hashcode"
   ]
  },
  {
   "cell_type": "code",
   "execution_count": 89,
   "metadata": {},
   "outputs": [
    {
     "data": {
      "text/plain": [
       "['11001011',\n",
       " '10001101',\n",
       " '10011101',\n",
       " '01000110',\n",
       " '10011011',\n",
       " '00010101',\n",
       " '10011001',\n",
       " '01111110',\n",
       " '01000010',\n",
       " '01101101',\n",
       " '11110011',\n",
       " '01001110',\n",
       " '10000001',\n",
       " '00011000',\n",
       " '01110001',\n",
       " '01000110']"
      ]
     },
     "execution_count": 89,
     "metadata": {},
     "output_type": "execute_result"
    }
   ],
   "source": [
    "bits=bin(int(hashcode,16))[2:]\n",
    "\n",
    "#n=8\n",
    "#sample=[bits[i:i+n] for i in range(0, len(bits), n)]\n",
    "#s#ample"
   ]
  },
  {
   "cell_type": "code",
   "execution_count": 16,
   "metadata": {},
   "outputs": [
    {
     "data": {
      "text/plain": [
       "'1100011110000111101001100001111001111001101110011110010011001111110011'"
      ]
     },
     "execution_count": 16,
     "metadata": {},
     "output_type": "execute_result"
    }
   ],
   "source": [
    "output_bits_long=''.join(format(ord(x), 'b') for x in s)\n",
    "output_bits_long"
   ]
  },
  {
   "cell_type": "code",
   "execution_count": 41,
   "metadata": {
    "collapsed": true
   },
   "outputs": [],
   "source": []
  },
  {
   "cell_type": "code",
   "execution_count": 42,
   "metadata": {},
   "outputs": [
    {
     "name": "stdout",
     "output_type": "stream",
     "text": [
      "110000111100111100100\n"
     ]
    }
   ],
   "source": [
    "output_bits_short=''.join(format(ord(x), 'b') for x in dd)\n",
    "output_bits_short=output_bits_short\n",
    "print (output_bits_short)"
   ]
  },
  {
   "cell_type": "code",
   "execution_count": 19,
   "metadata": {},
   "outputs": [
    {
     "name": "stdout",
     "output_type": "stream",
     "text": [
      "70\n"
     ]
    },
    {
     "data": {
      "text/plain": [
       "70"
      ]
     },
     "execution_count": 19,
     "metadata": {},
     "output_type": "execute_result"
    }
   ],
   "source": [
    "fill=len(output_bits_long)\n",
    "print(fill)\n",
    "len(output_bits_short.zfill(fill))"
   ]
  },
  {
   "cell_type": "code",
   "execution_count": 27,
   "metadata": {},
   "outputs": [
    {
     "data": {
      "text/plain": [
       "'\\x193s'"
      ]
     },
     "execution_count": 27,
     "metadata": {},
     "output_type": "execute_result"
    }
   ],
   "source": [
    "ordinal_value=int(output_bits_short,2)\n",
    "binascii.unhexlify('%x' % ordinal_value)"
   ]
  },
  {
   "cell_type": "code",
   "execution_count": 36,
   "metadata": {},
   "outputs": [
    {
     "data": {
      "text/plain": [
       "'2c\\x96|\\xf2f\\xe7\\x937\\x03'"
      ]
     },
     "execution_count": 36,
     "metadata": {},
     "output_type": "execute_result"
    }
   ],
   "source": [
    "''.join(chr(int(output_bits_short[i:i+8], 2)) for i in xrange(0, len(output_bits_short), 8))"
   ]
  },
  {
   "cell_type": "code",
   "execution_count": 51,
   "metadata": {},
   "outputs": [
    {
     "data": {
      "text/plain": [
       "'\\xcb\\x1c\\x03'"
      ]
     },
     "execution_count": 51,
     "metadata": {},
     "output_type": "execute_result"
    }
   ],
   "source": [
    "dd=\"213\"\n",
    "bitstring=''.join(format(ord(x), 'b') for x in dd)\n",
    "#bitstring = -len(output_bits_short) % 8 * '0' + output_bits_short\n",
    "string_blocks = (bitstring[i:i+8] for i in range(0, len(bitstring), 8))\n",
    "string = ''.join(chr(int(char, 2)) for char in string_blocks)\n",
    "\n",
    "(string)"
   ]
  },
  {
   "cell_type": "code",
   "execution_count": 47,
   "metadata": {},
   "outputs": [
    {
     "data": {
      "text/plain": [
       "'\\x18y\\xe4'"
      ]
     },
     "execution_count": 47,
     "metadata": {},
     "output_type": "execute_result"
    }
   ],
   "source": [
    "(string)"
   ]
  },
  {
   "cell_type": "code",
   "execution_count": 102,
   "metadata": {},
   "outputs": [
    {
     "name": "stdout",
     "output_type": "stream",
     "text": [
      "\n",
      "String:\n",
      "cb8d9d469b15997e426df34e81187146\n",
      "\n",
      "String:\n",
      "['01100011', '01100010', '00111000', '01100100', '00111001', '01100100', '00110100', '00110110', '00111001', '01100010', '00110001', '00110101', '00111001', '00111001', '00110111', '01100101', '00110100', '00110010', '00110110', '01100100', '01100110', '00110011', '00110100', '01100101', '00111000', '00110001', '00110001', '00111000', '00110111', '00110001', '00110100', '00110110']\n"
     ]
    }
   ],
   "source": [
    "def string2bits(s=''):\n",
    "    return [bin(ord(x))[2:].zfill(8) for x in s]\n",
    "\n",
    "def bits2string(b=None):\n",
    "    return ''.join([chr(int(x, 2)) for x in b])\n",
    "\n",
    "b = string2bits(hashcode)\n",
    "s2 = bits2string(b)\n",
    "\n",
    "print '\\nString:'\n",
    "print s2\n",
    "\n",
    "print '\\nString:'\n",
    "print b\n"
   ]
  },
  {
   "cell_type": "code",
   "execution_count": 107,
   "metadata": {},
   "outputs": [
    {
     "data": {
      "text/plain": [
       "'ucYhHTqdLNE0HQpkPg03'"
      ]
     },
     "execution_count": 107,
     "metadata": {},
     "output_type": "execute_result"
    }
   ],
   "source": []
  },
  {
   "cell_type": "code",
   "execution_count": null,
   "metadata": {
    "collapsed": true
   },
   "outputs": [],
   "source": []
  }
 ],
 "metadata": {
  "kernelspec": {
   "display_name": "Python 2",
   "language": "python",
   "name": "python2"
  },
  "language_info": {
   "codemirror_mode": {
    "name": "ipython",
    "version": 2
   },
   "file_extension": ".py",
   "mimetype": "text/x-python",
   "name": "python",
   "nbconvert_exporter": "python",
   "pygments_lexer": "ipython2",
   "version": "2.7.10"
  }
 },
 "nbformat": 4,
 "nbformat_minor": 2
}
