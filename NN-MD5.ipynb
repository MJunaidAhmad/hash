{
 "cells": [
  {
   "cell_type": "code",
   "execution_count": 1,
   "metadata": {
    "collapsed": true
   },
   "outputs": [],
   "source": [
    "#import useful libraries\n",
    "import hashlib #for md5\n",
    "import binascii # for conversions (binary etc.)\n",
    "import string \n",
    "import random # for random number generation\n",
    "import csv # to play around with csv files\n",
    "\n",
    "#create or open a csv file\n",
    "with open('hash_md5_dataset.csv', 'wb') as csvfile:\n",
    "    datawriter = csv.writer(csvfile, delimiter=',')  \n",
    "    for i in range(5000):\n",
    "        # first generate a combination of upercase, lowercase letters and digits. \n",
    "        s=''.join(random.SystemRandom().choice(string.ascii_uppercase + string.digits+string.ascii_lowercase ) for _ in range(20))\n",
    "        #now generate the hash value using md5\n",
    "        hashcode=hashlib.md5(s).hexdigest()\n",
    "        datawriter.writerow([hashcode,s])"
   ]
  },
  {
   "cell_type": "code",
   "execution_count": 2,
   "metadata": {},
   "outputs": [
    {
     "name": "stderr",
     "output_type": "stream",
     "text": [
      "Using Theano backend.\n",
      "WARNING (theano.sandbox.cuda): The cuda backend is deprecated and will be removed in the next release (v0.10).  Please switch to the gpuarray backend. You can get more information about how to switch at this URL:\n",
      " https://github.com/Theano/Theano/wiki/Converting-to-the-new-gpu-back-end%28gpuarray%29\n",
      "\n",
      "Using gpu device 0: Tesla K40c (CNMeM is disabled, cuDNN 4007)\n"
     ]
    }
   ],
   "source": [
    "import numpy\n",
    "import pandas\n",
    "from keras.models import Sequential\n",
    "from keras.layers import Dense\n",
    "from keras.wrappers.scikit_learn import KerasClassifier\n",
    "from keras.utils import np_utils\n",
    "from sklearn.model_selection import cross_val_score\n",
    "from sklearn.model_selection import KFold\n",
    "from sklearn.preprocessing import LabelEncoder\n",
    "from sklearn.pipeline import Pipeline\n",
    "import numpy\n",
    "import pandas\n",
    "from keras.models import Sequential\n",
    "from keras.layers import Dense\n",
    "from keras.wrappers.scikit_learn import KerasClassifier\n",
    "from keras.utils import np_utils\n",
    "from sklearn.model_selection import cross_val_score\n",
    "from sklearn.model_selection import KFold\n",
    "from sklearn.preprocessing import LabelEncoder\n",
    "from sklearn.pipeline import Pipeline"
   ]
  },
  {
   "cell_type": "code",
   "execution_count": 3,
   "metadata": {
    "collapsed": true
   },
   "outputs": [],
   "source": [
    "# fix random seed for reproducibility\n",
    "seed = 7\n",
    "numpy.random.seed(seed)\n",
    "def string2bits(s=''):\n",
    "    return [bin(ord(x))[2:].zfill(8) for x in s]\n",
    "\n",
    "def bits2string(b=None):\n",
    "    return ''.join([chr(int(x, 2)) for x in b])\n",
    "\n",
    "#b = string2bits(hashcode)\n",
    "#s2 = bits2string(b)"
   ]
  },
  {
   "cell_type": "code",
   "execution_count": 129,
   "metadata": {
    "scrolled": true
   },
   "outputs": [],
   "source": [
    "# load dataset\n",
    "dataframe = pandas.read_csv(\"hash_md5_dataset.csv\", header=None)\n",
    "dataset = dataframe.values\n",
    "X = dataset[:,0:2]\n",
    "#Y = dataset[:,1]\n",
    "#print(Y)\n",
    "X_binary = [] \n",
    "Z_binary=[]\n",
    "Y_binary=[]\n",
    "for j in range(2):\n",
    "    for i in range(5000):\n",
    "         X_binary.append(((''.join(string2bits(X[i][j])))))\n",
    "    Z_binary.append(X_binary)\n",
    "        \n",
    "        \n",
    "for i in range(5000):\n",
    "    Y_binary.append(((''.join(string2bits(X[i][1])))))    "
   ]
  },
  {
   "cell_type": "code",
   "execution_count": 135,
   "metadata": {},
   "outputs": [
    {
     "name": "stdout",
     "output_type": "stream",
     "text": [
      "[ '0011001100110010001100110011010100110011001100010011100001100100011000010110010100110011001110000110010100110010001101000110001001100100001110000011100000110101011000010011011100110001001100110011011001100101001101010011011101100110011001000011011000110100'\n",
      " '0011000101100101001100110110000101100100001100100011010100111000001100110011100100110000011001010011001000110101001101100110010101100010011001000110010000110001001100010011000000110010001100000110000100110100001110010110000100110110001100000011011001100010'\n",
      " '0110000100110110001110010011100100110011001101110011010001100001001100010011100000111001011000100110001100111001001100000011011100110000001100110011001101100010001100100110010000110110001100000011010101100010001101000011011001100110001110010011000100111000'\n",
      " ...,\n",
      " '0100010101100101011011010111000001011000010011010110010100110110010011100100101000111000010010110111011001001100001101000101001101101111011101110101011001101111'\n",
      " '0101010101010001011011000101010101001011011100000011001001001011010101100100011001010100011110010011000101010000010010100111000101100010010110100100011001110001'\n",
      " '0101010001101011010000100111010001101010011011000011010001111000011101010110111101000101001101110100011101010011011011110011001101010010010101110100001001110001']\n"
     ]
    }
   ],
   "source": [
    "print(numpy.array(Z_binary[0]))"
   ]
  },
  {
   "cell_type": "code",
   "execution_count": 127,
   "metadata": {},
   "outputs": [
    {
     "name": "stderr",
     "output_type": "stream",
     "text": [
      "IOPub data rate exceeded.\n",
      "The notebook server will temporarily stop sending output\n",
      "to the client in order to avoid crashing it.\n",
      "To change this limit, set the config variable\n",
      "`--NotebookApp.iopub_data_rate_limit`.\n"
     ]
    }
   ],
   "source": []
  },
  {
   "cell_type": "code",
   "execution_count": 42,
   "metadata": {},
   "outputs": [
    {
     "name": "stdout",
     "output_type": "stream",
     "text": [
      "110000111100111100100\n"
     ]
    }
   ],
   "source": [
    "output_bits_short=''.join(format(ord(x), 'b') for x in dd)\n",
    "output_bits_short=output_bits_short\n",
    "print (output_bits_short)"
   ]
  },
  {
   "cell_type": "code",
   "execution_count": 19,
   "metadata": {},
   "outputs": [
    {
     "name": "stdout",
     "output_type": "stream",
     "text": [
      "70\n"
     ]
    },
    {
     "data": {
      "text/plain": [
       "70"
      ]
     },
     "execution_count": 19,
     "metadata": {},
     "output_type": "execute_result"
    }
   ],
   "source": [
    "fill=len(output_bits_long)\n",
    "print(fill)\n",
    "len(output_bits_short.zfill(fill))"
   ]
  },
  {
   "cell_type": "code",
   "execution_count": 27,
   "metadata": {},
   "outputs": [
    {
     "data": {
      "text/plain": [
       "'\\x193s'"
      ]
     },
     "execution_count": 27,
     "metadata": {},
     "output_type": "execute_result"
    }
   ],
   "source": [
    "ordinal_value=int(output_bits_short,2)\n",
    "binascii.unhexlify('%x' % ordinal_value)"
   ]
  },
  {
   "cell_type": "code",
   "execution_count": 36,
   "metadata": {},
   "outputs": [
    {
     "data": {
      "text/plain": [
       "'2c\\x96|\\xf2f\\xe7\\x937\\x03'"
      ]
     },
     "execution_count": 36,
     "metadata": {},
     "output_type": "execute_result"
    }
   ],
   "source": [
    "''.join(chr(int(output_bits_short[i:i+8], 2)) for i in xrange(0, len(output_bits_short), 8))"
   ]
  },
  {
   "cell_type": "code",
   "execution_count": 51,
   "metadata": {},
   "outputs": [
    {
     "data": {
      "text/plain": [
       "'\\xcb\\x1c\\x03'"
      ]
     },
     "execution_count": 51,
     "metadata": {},
     "output_type": "execute_result"
    }
   ],
   "source": [
    "dd=\"213\"\n",
    "bitstring=''.join(format(ord(x), 'b') for x in dd)\n",
    "#bitstring = -len(output_bits_short) % 8 * '0' + output_bits_short\n",
    "string_blocks = (bitstring[i:i+8] for i in range(0, len(bitstring), 8))\n",
    "string = ''.join(chr(int(char, 2)) for char in string_blocks)\n",
    "\n",
    "(string)"
   ]
  },
  {
   "cell_type": "code",
   "execution_count": 47,
   "metadata": {},
   "outputs": [
    {
     "data": {
      "text/plain": [
       "'\\x18y\\xe4'"
      ]
     },
     "execution_count": 47,
     "metadata": {},
     "output_type": "execute_result"
    }
   ],
   "source": [
    "(string)"
   ]
  },
  {
   "cell_type": "code",
   "execution_count": 11,
   "metadata": {},
   "outputs": [
    {
     "name": "stdout",
     "output_type": "stream",
     "text": [
      "\n",
      "String:\n",
      "hashcode\n",
      "\n",
      "String:\n",
      "['01101000', '01100001', '01110011', '01101000', '01100011', '01101111', '01100100', '01100101']\n"
     ]
    }
   ],
   "source": [
    "def string2bits(s=''):\n",
    "    return [bin(ord(x))[2:].zfill(8) for x in s]\n",
    "\n",
    "def bits2string(b=None):\n",
    "    return ''.join([chr(int(x, 2)) for x in b])\n",
    "\n",
    "b = string2bits(\"hashcode\")\n",
    "s2 = bits2string(b)\n",
    "\n",
    "print '\\nString:'\n",
    "print s2\n",
    "\n",
    "print '\\nString:'\n",
    "print b\n"
   ]
  },
  {
   "cell_type": "code",
   "execution_count": 107,
   "metadata": {},
   "outputs": [
    {
     "data": {
      "text/plain": [
       "'ucYhHTqdLNE0HQpkPg03'"
      ]
     },
     "execution_count": 107,
     "metadata": {},
     "output_type": "execute_result"
    }
   ],
   "source": []
  },
  {
   "cell_type": "code",
   "execution_count": null,
   "metadata": {
    "collapsed": true
   },
   "outputs": [],
   "source": []
  }
 ],
 "metadata": {
  "kernelspec": {
   "display_name": "Python 2",
   "language": "python",
   "name": "python2"
  },
  "language_info": {
   "codemirror_mode": {
    "name": "ipython",
    "version": 2
   },
   "file_extension": ".py",
   "mimetype": "text/x-python",
   "name": "python",
   "nbconvert_exporter": "python",
   "pygments_lexer": "ipython2",
   "version": "2.7.10"
  }
 },
 "nbformat": 4,
 "nbformat_minor": 2
}
