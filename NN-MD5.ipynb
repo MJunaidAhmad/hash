{
 "cells": [
  {
   "cell_type": "code",
   "execution_count": 3,
   "metadata": {
    "collapsed": true
   },
   "outputs": [],
   "source": [
    "#import useful libraries\n",
    "import hashlib #for md5\n",
    "import binascii # for conversions (binary etc.)\n",
    "import string \n",
    "import random # for random number generation\n",
    "import csv # to play around with csv files\n",
    "\n",
    "#create or open a csv file\n",
    "with open('hash_md5_dataset_sample.csv', 'wb') as csvfile:\n",
    "    datawriter = csv.writer(csvfile, delimiter=',')  \n",
    "    for i in range(1000000):\n",
    "        # first generate a combination of upercase, lowercase letters and digits. \n",
    "        s=''.join(random.SystemRandom().choice(string.ascii_uppercase + string.digits+string.ascii_lowercase ) for _ in range(3))\n",
    "        #now generate the hash value using md5\n",
    "        hashcode=hashlib.md5(s).hexdigest()\n",
    "        datawriter.writerow([hashcode,s])"
   ]
  },
  {
   "cell_type": "code",
   "execution_count": null,
   "metadata": {
    "collapsed": true
   },
   "outputs": [],
   "source": []
  }
 ],
 "metadata": {
  "kernelspec": {
   "display_name": "Python 2",
   "language": "python",
   "name": "python2"
  },
  "language_info": {
   "codemirror_mode": {
    "name": "ipython",
    "version": 2
   },
   "file_extension": ".py",
   "mimetype": "text/x-python",
   "name": "python",
   "nbconvert_exporter": "python",
   "pygments_lexer": "ipython2",
   "version": "2.7.10"
  }
 },
 "nbformat": 4,
 "nbformat_minor": 2
}
